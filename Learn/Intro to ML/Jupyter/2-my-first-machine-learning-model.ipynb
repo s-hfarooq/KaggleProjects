{
 "cells": [
  {
   "cell_type": "markdown",
   "metadata": {
    "_cell_guid": "e81ee64d-e474-4662-9036-ce23df615199",
    "_uuid": "b6269c0e8f417f82daf093dda8fa0da6d2c57d86"
   },
   "source": [
    "# Intro\n",
    "**This is your workspace for Kaggle's Machine Learning course**\n",
    "\n",
    "You will build and continually improve a model to predict housing prices as you work through each tutorial.\n",
    "\n",
    "The tutorials you read use data from Melbourne. The Melbourne data is not available in this workspace.  Instead, you will translate the concepts to work with the data in this notebook, the Iowa data.\n",
    "\n",
    "# Write Your Code Below\n"
   ]
  },
  {
   "cell_type": "code",
   "execution_count": 1,
   "metadata": {
    "_cell_guid": "86b26423-563a-4fa1-a595-89e25ff93089",
    "_uuid": "1c728098629e1301643443b1341556a15c089b2b"
   },
   "outputs": [
    {
     "name": "stdout",
     "output_type": "stream",
     "text": [
      "hello world\n"
     ]
    }
   ],
   "source": [
    "import pandas as pd\n",
    "\n",
    "main_file_path = '../input/train.csv' # this is the path to the Iowa data that you will use\n",
    "data = pd.read_csv(main_file_path)\n",
    "\n",
    "# The cod below will help you see how output appears when you run a code block\n",
    "# Run this code block with the control-enter keys on your keyboard. Or click the blue botton on the left\n",
    "print('hello world')"
   ]
  },
  {
   "cell_type": "markdown",
   "metadata": {
    "_uuid": "5993d6bbf5e7c47ffc4e10dd0a3940783d861573"
   },
   "source": [
    "\n",
    "**If you have any questions or hit any problems, come to the [Learn Discussion](https://www.kaggle.com/learn-forum) for help. **\n",
    "\n",
    "**Return to [ML Course Index](https://www.kaggle.com/learn/machine-learning)**"
   ]
  },
  {
   "cell_type": "markdown",
   "metadata": {
    "_uuid": "04becaecca84c4b4d7e81563a64ba8c8a605fec4"
   },
   "source": []
  }
 ],
 "metadata": {
  "kernelspec": {
   "display_name": "Python 3",
   "language": "python",
   "name": "python3"
  },
  "language_info": {
   "codemirror_mode": {
    "name": "ipython",
    "version": 3
   },
   "file_extension": ".py",
   "mimetype": "text/x-python",
   "name": "python",
   "nbconvert_exporter": "python",
   "pygments_lexer": "ipython3",
   "version": "3.6.6"
  }
 },
 "nbformat": 4,
 "nbformat_minor": 1
}
